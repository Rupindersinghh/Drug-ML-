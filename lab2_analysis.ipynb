{
 "cells": [
  {
   "cell_type": "markdown",
   "id": "78e93f5c-6e95-4027-9d4b-6f7401478c99",
   "metadata": {},
   "source": [
    "***Problem statement***\n",
    "\n",
    "The goal of this study is to review and provide predictions of prescriptions, based on patient characteristics with classification techniques. Predicting medication accurately contributes to improved treatment and decision making in healthcare. This lab's dataset drug200.csv contains patient attributes on demographic info (age, sex), physiological measures (blood pressure and cholesterol levels) and a sodium-potassium ratio to predict the prescription of any of five drugs (Drug A–E). We will build models using machine learning techniques including Logistic Regression, k-Nearest Neighbors (k-NN), and a Decision Tree to classify patients into drug classifications.\n",
    "It is important to identify the best classification algorithm for such medical applications because they have implications for clinical decision support systems and, ultimately, patient safety. This analysis will conclude with not only model performance comparisons but will also establish specific insights as a guideline for model selection in healthcare analytics."
   ]
  },
  {
   "cell_type": "markdown",
   "id": "ff918ee9-4bb5-4f83-9f1c-61d4d5de032c",
   "metadata": {},
   "source": [
    "**Literature review**\n",
    "\n",
    "Classification algorithms like logistic regression and decision trees have long been available to aid clinical decision making and the prediction of various healthcare outcomes. As found by Issitt et al. (2022) logistic regression typically provides a better model for a healthcare classification task, assuming a linear separable data structure. However, we are now seeing more and more complex models that use non-linear portions of the data (often classified as deep learning algorithms). It is arguable that we must be prepared to give up some amount of interpretability for the increase of power to predict in highly complex models (Issitt et al., 2022).\n",
    "\n",
    "Baron and Kenny (1986) were very explicit about the constructs of mediating and moderating variables in their analysis of the variance accounted in psychology and behavioral research, and how they can assist the modeling of healthcare determinants. Baron and Kenny highlighted how modeling impacts on mediating or moderating variables can help communicate to audiences any potentially hidden variables that may be happening or confounding as an effect. The use of all models was rational with regards to approach about explaining model results but, perhaps the weight placed on decisions in healthcare scenario conditions of modeled variable interpretations versus the same modeled variables in non-healthcare domains explains why decision trees (all other things being equal) are preferred in this area.\n",
    "\n",
    "An existing study appears to support this approach. He et al. (2023) reviewed several (but not all) classification machine learning methods to predict drug response. The authors reported that more sophisticated models produced slightly improved accuracy for groups of data that were also less than 50%. Simpler models such as k-NN and logistic regression that were still able to predict drug responses still had a quicker run time and therefore were more generalizable where small and medium-sized data would exist. He et al. (2023) study supports any comparative modeling approaches in the lab by weighing performance measures on our models with regard to how we interpret them or whether or not we can use them in a deployment format.\n"
   ]
  },
  {
   "cell_type": "code",
   "execution_count": 54,
   "id": "e4d688de-1a26-406f-a4ed-982d18a2afb7",
   "metadata": {},
   "outputs": [],
   "source": [
    "import pandas as pd\n",
    "import numpy as np\n",
    "import matplotlib.pyplot as plt\n",
    "import seaborn as sns\n",
    "\n",
    "from sklearn.model_selection import train_test_split\n",
    "from sklearn.preprocessing import LabelEncoder\n",
    "from sklearn.linear_model import LogisticRegression\n",
    "from sklearn.neighbors import KNeighborsClassifier\n",
    "from sklearn.tree import DecisionTreeClassifier\n",
    "from sklearn.metrics import classification_report\n"
   ]
  },
  {
   "cell_type": "markdown",
   "id": "4821d667-ad22-4c7a-850d-fd7afdae1e5d",
   "metadata": {},
   "source": [
    "****Methodology****\n",
    "\n",
    "Dataset Description\n",
    "\n",
    "The dataset for this classification case study is named drug200.csv, which consists of 200 observations and six variables. The dataset contains numerical and categorical characteristics: Age, Sex, BP, Cholesterol, Na to K ratio (Sodium to Potassium). The target variable in this case study is Drug, indicating which type of Drug was prescribed to the patient. This dataset serves as a good case study to assess the predictions and models from different classifiers based on patient attributes.\n"
   ]
  },
  {
   "cell_type": "code",
   "execution_count": 55,
   "id": "21eb892e-f968-460e-a712-74a1cfcc7c78",
   "metadata": {},
   "outputs": [
    {
     "data": {
      "text/html": [
       "<div>\n",
       "<style scoped>\n",
       "    .dataframe tbody tr th:only-of-type {\n",
       "        vertical-align: middle;\n",
       "    }\n",
       "\n",
       "    .dataframe tbody tr th {\n",
       "        vertical-align: top;\n",
       "    }\n",
       "\n",
       "    .dataframe thead th {\n",
       "        text-align: right;\n",
       "    }\n",
       "</style>\n",
       "<table border=\"1\" class=\"dataframe\">\n",
       "  <thead>\n",
       "    <tr style=\"text-align: right;\">\n",
       "      <th></th>\n",
       "      <th>Age</th>\n",
       "      <th>Sex</th>\n",
       "      <th>BP</th>\n",
       "      <th>Cholesterol</th>\n",
       "      <th>Na_to_K</th>\n",
       "      <th>Drug</th>\n",
       "    </tr>\n",
       "  </thead>\n",
       "  <tbody>\n",
       "    <tr>\n",
       "      <th>0</th>\n",
       "      <td>23</td>\n",
       "      <td>F</td>\n",
       "      <td>HIGH</td>\n",
       "      <td>HIGH</td>\n",
       "      <td>25.355</td>\n",
       "      <td>DrugY</td>\n",
       "    </tr>\n",
       "    <tr>\n",
       "      <th>1</th>\n",
       "      <td>47</td>\n",
       "      <td>M</td>\n",
       "      <td>LOW</td>\n",
       "      <td>HIGH</td>\n",
       "      <td>13.093</td>\n",
       "      <td>drugC</td>\n",
       "    </tr>\n",
       "    <tr>\n",
       "      <th>2</th>\n",
       "      <td>47</td>\n",
       "      <td>M</td>\n",
       "      <td>LOW</td>\n",
       "      <td>HIGH</td>\n",
       "      <td>10.114</td>\n",
       "      <td>drugC</td>\n",
       "    </tr>\n",
       "    <tr>\n",
       "      <th>3</th>\n",
       "      <td>28</td>\n",
       "      <td>F</td>\n",
       "      <td>NORMAL</td>\n",
       "      <td>HIGH</td>\n",
       "      <td>7.798</td>\n",
       "      <td>drugX</td>\n",
       "    </tr>\n",
       "    <tr>\n",
       "      <th>4</th>\n",
       "      <td>61</td>\n",
       "      <td>F</td>\n",
       "      <td>LOW</td>\n",
       "      <td>HIGH</td>\n",
       "      <td>18.043</td>\n",
       "      <td>DrugY</td>\n",
       "    </tr>\n",
       "  </tbody>\n",
       "</table>\n",
       "</div>"
      ],
      "text/plain": [
       "   Age Sex      BP Cholesterol  Na_to_K   Drug\n",
       "0   23   F    HIGH        HIGH   25.355  DrugY\n",
       "1   47   M     LOW        HIGH   13.093  drugC\n",
       "2   47   M     LOW        HIGH   10.114  drugC\n",
       "3   28   F  NORMAL        HIGH    7.798  drugX\n",
       "4   61   F     LOW        HIGH   18.043  DrugY"
      ]
     },
     "execution_count": 55,
     "metadata": {},
     "output_type": "execute_result"
    }
   ],
   "source": [
    "df = pd.read_csv(\"drug200.csv\")\n",
    "df.head()"
   ]
  },
  {
   "cell_type": "code",
   "execution_count": 56,
   "id": "7af6d755-24ab-465b-b2a1-93638ed40e4c",
   "metadata": {},
   "outputs": [
    {
     "data": {
      "text/html": [
       "<div>\n",
       "<style scoped>\n",
       "    .dataframe tbody tr th:only-of-type {\n",
       "        vertical-align: middle;\n",
       "    }\n",
       "\n",
       "    .dataframe tbody tr th {\n",
       "        vertical-align: top;\n",
       "    }\n",
       "\n",
       "    .dataframe thead th {\n",
       "        text-align: right;\n",
       "    }\n",
       "</style>\n",
       "<table border=\"1\" class=\"dataframe\">\n",
       "  <thead>\n",
       "    <tr style=\"text-align: right;\">\n",
       "      <th></th>\n",
       "      <th>Age</th>\n",
       "      <th>Sex</th>\n",
       "      <th>BP</th>\n",
       "      <th>Cholesterol</th>\n",
       "      <th>Na_to_K</th>\n",
       "      <th>Drug</th>\n",
       "    </tr>\n",
       "  </thead>\n",
       "  <tbody>\n",
       "    <tr>\n",
       "      <th>0</th>\n",
       "      <td>23</td>\n",
       "      <td>F</td>\n",
       "      <td>HIGH</td>\n",
       "      <td>HIGH</td>\n",
       "      <td>25.355</td>\n",
       "      <td>DrugY</td>\n",
       "    </tr>\n",
       "    <tr>\n",
       "      <th>1</th>\n",
       "      <td>47</td>\n",
       "      <td>M</td>\n",
       "      <td>LOW</td>\n",
       "      <td>HIGH</td>\n",
       "      <td>13.093</td>\n",
       "      <td>drugC</td>\n",
       "    </tr>\n",
       "    <tr>\n",
       "      <th>2</th>\n",
       "      <td>47</td>\n",
       "      <td>M</td>\n",
       "      <td>LOW</td>\n",
       "      <td>HIGH</td>\n",
       "      <td>10.114</td>\n",
       "      <td>drugC</td>\n",
       "    </tr>\n",
       "    <tr>\n",
       "      <th>3</th>\n",
       "      <td>28</td>\n",
       "      <td>F</td>\n",
       "      <td>NORMAL</td>\n",
       "      <td>HIGH</td>\n",
       "      <td>7.798</td>\n",
       "      <td>drugX</td>\n",
       "    </tr>\n",
       "    <tr>\n",
       "      <th>4</th>\n",
       "      <td>61</td>\n",
       "      <td>F</td>\n",
       "      <td>LOW</td>\n",
       "      <td>HIGH</td>\n",
       "      <td>18.043</td>\n",
       "      <td>DrugY</td>\n",
       "    </tr>\n",
       "  </tbody>\n",
       "</table>\n",
       "</div>"
      ],
      "text/plain": [
       "   Age Sex      BP Cholesterol  Na_to_K   Drug\n",
       "0   23   F    HIGH        HIGH   25.355  DrugY\n",
       "1   47   M     LOW        HIGH   13.093  drugC\n",
       "2   47   M     LOW        HIGH   10.114  drugC\n",
       "3   28   F  NORMAL        HIGH    7.798  drugX\n",
       "4   61   F     LOW        HIGH   18.043  DrugY"
      ]
     },
     "execution_count": 56,
     "metadata": {},
     "output_type": "execute_result"
    }
   ],
   "source": [
    "df = pd.read_csv(\"drug200.csv\")\n",
    "\n",
    "df.head()"
   ]
  },
  {
   "cell_type": "markdown",
   "id": "07ffd24d-ad6a-44a4-951b-82bd7497dabe",
   "metadata": {},
   "source": [
    "****Exploratory Data Analysis****\n",
    "Before modeling, we explore the dataset to check its structure, identify categorical features, and understand class distribution for the target variable `Drug`."
   ]
  },
  {
   "cell_type": "code",
   "execution_count": 57,
   "id": "b208b110-f29e-4505-b334-437e6b3e1056",
   "metadata": {},
   "outputs": [
    {
     "name": "stdout",
     "output_type": "stream",
     "text": [
      "<class 'pandas.core.frame.DataFrame'>\n",
      "RangeIndex: 200 entries, 0 to 199\n",
      "Data columns (total 6 columns):\n",
      " #   Column       Non-Null Count  Dtype  \n",
      "---  ------       --------------  -----  \n",
      " 0   Age          200 non-null    int64  \n",
      " 1   Sex          200 non-null    object \n",
      " 2   BP           200 non-null    object \n",
      " 3   Cholesterol  200 non-null    object \n",
      " 4   Na_to_K      200 non-null    float64\n",
      " 5   Drug         200 non-null    object \n",
      "dtypes: float64(1), int64(1), object(4)\n",
      "memory usage: 9.5+ KB\n"
     ]
    },
    {
     "data": {
      "image/png": "[encoded data removed]",
      "text/plain": [
       "<Figure size 640x480 with 1 Axes>"
      ]
     },
     "metadata": {},
     "output_type": "display_data"
    }
   ],
   "source": [
    "df.info()\n",
    "df.describe()\n",
    "\n",
    "sns.countplot(x='Drug', data=df)\n",
    "plt.title('Distribution of Drug Types')\n",
    "plt.xlabel('Drug')\n",
    "plt.ylabel('Count')\n",
    "plt.xticks(rotation=45)\n",
    "plt.show()\n",
    "\n"
   ]
  },
  {
   "cell_type": "markdown",
   "id": "1e229d9e-78fa-4d51-ae76-f5210445aef8",
   "metadata": {},
   "source": [
    "***Dataset Preprocessing Steps***\n",
    "\n",
    "To prepare the data for modeling, categorical variables such as 'Sex', 'BP', 'Cholesterol', and 'Drug' were encoded using Label Encoding. This step converts non-numeric values into numerical format for compatibility with machine learning models."
   ]
  },
  {
   "cell_type": "code",
   "execution_count": 58,
   "id": "1d38bb95-dfe5-4ddb-b74c-936ca2e975cd",
   "metadata": {},
   "outputs": [
    {
     "data": {
      "text/html": [
       "<div>\n",
       "<style scoped>\n",
       "    .dataframe tbody tr th:only-of-type {\n",
       "        vertical-align: middle;\n",
       "    }\n",
       "\n",
       "    .dataframe tbody tr th {\n",
       "        vertical-align: top;\n",
       "    }\n",
       "\n",
       "    .dataframe thead th {\n",
       "        text-align: right;\n",
       "    }\n",
       "</style>\n",
       "<table border=\"1\" class=\"dataframe\">\n",
       "  <thead>\n",
       "    <tr style=\"text-align: right;\">\n",
       "      <th></th>\n",
       "      <th>Age</th>\n",
       "      <th>Sex</th>\n",
       "      <th>BP</th>\n",
       "      <th>Cholesterol</th>\n",
       "      <th>Na_to_K</th>\n",
       "      <th>Drug</th>\n",
       "    </tr>\n",
       "  </thead>\n",
       "  <tbody>\n",
       "    <tr>\n",
       "      <th>0</th>\n",
       "      <td>23</td>\n",
       "      <td>0</td>\n",
       "      <td>0</td>\n",
       "      <td>0</td>\n",
       "      <td>25.355</td>\n",
       "      <td>0</td>\n",
       "    </tr>\n",
       "    <tr>\n",
       "      <th>1</th>\n",
       "      <td>47</td>\n",
       "      <td>1</td>\n",
       "      <td>1</td>\n",
       "      <td>0</td>\n",
       "      <td>13.093</td>\n",
       "      <td>3</td>\n",
       "    </tr>\n",
       "    <tr>\n",
       "      <th>2</th>\n",
       "      <td>47</td>\n",
       "      <td>1</td>\n",
       "      <td>1</td>\n",
       "      <td>0</td>\n",
       "      <td>10.114</td>\n",
       "      <td>3</td>\n",
       "    </tr>\n",
       "    <tr>\n",
       "      <th>3</th>\n",
       "      <td>28</td>\n",
       "      <td>0</td>\n",
       "      <td>2</td>\n",
       "      <td>0</td>\n",
       "      <td>7.798</td>\n",
       "      <td>4</td>\n",
       "    </tr>\n",
       "    <tr>\n",
       "      <th>4</th>\n",
       "      <td>61</td>\n",
       "      <td>0</td>\n",
       "      <td>1</td>\n",
       "      <td>0</td>\n",
       "      <td>18.043</td>\n",
       "      <td>0</td>\n",
       "    </tr>\n",
       "  </tbody>\n",
       "</table>\n",
       "</div>"
      ],
      "text/plain": [
       "   Age  Sex  BP  Cholesterol  Na_to_K  Drug\n",
       "0   23    0   0            0   25.355     0\n",
       "1   47    1   1            0   13.093     3\n",
       "2   47    1   1            0   10.114     3\n",
       "3   28    0   2            0    7.798     4\n",
       "4   61    0   1            0   18.043     0"
      ]
     },
     "execution_count": 58,
     "metadata": {},
     "output_type": "execute_result"
    }
   ],
   "source": [
    "# Encode Categorical Features\n",
    "le = LabelEncoder()\n",
    "for col in ['Sex', 'BP', 'Cholesterol', 'Drug']:\n",
    "    df[col] = le.fit_transform(df[col])\n",
    "\n",
    "df.head()"
   ]
  },
  {
   "cell_type": "markdown",
   "id": "05252f38-e127-4106-b430-81794d704a0c",
   "metadata": {},
   "source": [
    "***Exploratory Data Analysis (EDA)***\n",
    "\n",
    "Basic exploratory analysis was conducted to understand the structure, types, and distribution of the dataset. This step ensures that the data is clean and provides early insights into patterns and class balance."
   ]
  },
  {
   "cell_type": "code",
   "execution_count": 59,
   "id": "bec755ea-4762-415a-a575-945e5ac9cd1d",
   "metadata": {},
   "outputs": [
    {
     "name": "stdout",
     "output_type": "stream",
     "text": [
      "<class 'pandas.core.frame.DataFrame'>\n",
      "RangeIndex: 200 entries, 0 to 199\n",
      "Data columns (total 6 columns):\n",
      " #   Column       Non-Null Count  Dtype  \n",
      "---  ------       --------------  -----  \n",
      " 0   Age          200 non-null    int64  \n",
      " 1   Sex          200 non-null    int64  \n",
      " 2   BP           200 non-null    int64  \n",
      " 3   Cholesterol  200 non-null    int64  \n",
      " 4   Na_to_K      200 non-null    float64\n",
      " 5   Drug         200 non-null    int64  \n",
      "dtypes: float64(1), int64(5)\n",
      "memory usage: 9.5 KB\n"
     ]
    },
    {
     "data": {
      "image/png": "[encoded data removed]",
      "text/plain": [
       "<Figure size 640x480 with 1 Axes>"
      ]
     },
     "metadata": {},
     "output_type": "display_data"
    }
   ],
   "source": [
    "# Dataset Information\n",
    "df.info()\n",
    "\n",
    "# Summary Statistics\n",
    "df.describe()\n",
    "\n",
    "# Visualizing target distribution\n",
    "sns.countplot(x='Drug', data=df)\n",
    "plt.title('Distribution of Drug Classes')\n",
    "plt.show()"
   ]
  },
  {
   "cell_type": "markdown",
   "id": "dea35f91-5f93-404f-af7f-7de542509ba0",
   "metadata": {},
   "source": [
    "***Model Training***\n",
    "\n",
    "Three classification models were trained: Logistic Regression, k-Nearest Neighbors (k-NN), and Decision Tree. The dataset was split into 80% training and 20% testing sets. Each model was trained on the training data."
   ]
  },
  {
   "cell_type": "code",
   "execution_count": 60,
   "id": "ceb29cb1-fea9-4431-b1fa-18cfc914396e",
   "metadata": {},
   "outputs": [
    {
     "name": "stdout",
     "output_type": "stream",
     "text": [
      "Logistic Regression:\n",
      "               precision    recall  f1-score   support\n",
      "\n",
      "           0       0.79      1.00      0.88        15\n",
      "           1       1.00      0.50      0.67         6\n",
      "           2       1.00      1.00      1.00         3\n",
      "           3       0.00      0.00      0.00         5\n",
      "           4       0.73      1.00      0.85        11\n",
      "\n",
      "    accuracy                           0.80        40\n",
      "   macro avg       0.70      0.70      0.68        40\n",
      "weighted avg       0.72      0.80      0.74        40\n",
      "\n",
      "k-Nearest Neighbors:\n",
      "               precision    recall  f1-score   support\n",
      "\n",
      "           0       1.00      1.00      1.00        15\n",
      "           1       0.60      0.50      0.55         6\n",
      "           2       0.33      0.67      0.44         3\n",
      "           3       1.00      0.20      0.33         5\n",
      "           4       0.54      0.64      0.58        11\n",
      "\n",
      "    accuracy                           0.70        40\n",
      "   macro avg       0.69      0.60      0.58        40\n",
      "weighted avg       0.76      0.70      0.69        40\n",
      "\n",
      "Decision Tree:\n",
      "               precision    recall  f1-score   support\n",
      "\n",
      "           0       1.00      1.00      1.00        15\n",
      "           1       1.00      1.00      1.00         6\n",
      "           2       1.00      1.00      1.00         3\n",
      "           3       1.00      1.00      1.00         5\n",
      "           4       1.00      1.00      1.00        11\n",
      "\n",
      "    accuracy                           1.00        40\n",
      "   macro avg       1.00      1.00      1.00        40\n",
      "weighted avg       1.00      1.00      1.00        40\n",
      "\n"
     ]
    },
    {
     "name": "stderr",
     "output_type": "stream",
     "text": [
      "C:\\Users\\roop1\\anaconda3\\envs\\lab2_env\\lib\\site-packages\\sklearn\\linear_model\\_logistic.py:465: ConvergenceWarning: lbfgs failed to converge (status=1):\n",
      "STOP: TOTAL NO. OF ITERATIONS REACHED LIMIT.\n",
      "\n",
      "Increase the number of iterations (max_iter) or scale the data as shown in:\n",
      "    https://scikit-learn.org/stable/modules/preprocessing.html\n",
      "Please also refer to the documentation for alternative solver options:\n",
      "    https://scikit-learn.org/stable/modules/linear_model.html#logistic-regression\n",
      "  n_iter_i = _check_optimize_result(\n",
      "C:\\Users\\roop1\\anaconda3\\envs\\lab2_env\\lib\\site-packages\\sklearn\\metrics\\_classification.py:1565: UndefinedMetricWarning: Precision is ill-defined and being set to 0.0 in labels with no predicted samples. Use `zero_division` parameter to control this behavior.\n",
      "  _warn_prf(average, modifier, f\"{metric.capitalize()} is\", len(result))\n",
      "C:\\Users\\roop1\\anaconda3\\envs\\lab2_env\\lib\\site-packages\\sklearn\\metrics\\_classification.py:1565: UndefinedMetricWarning: Precision is ill-defined and being set to 0.0 in labels with no predicted samples. Use `zero_division` parameter to control this behavior.\n",
      "  _warn_prf(average, modifier, f\"{metric.capitalize()} is\", len(result))\n",
      "C:\\Users\\roop1\\anaconda3\\envs\\lab2_env\\lib\\site-packages\\sklearn\\metrics\\_classification.py:1565: UndefinedMetricWarning: Precision is ill-defined and being set to 0.0 in labels with no predicted samples. Use `zero_division` parameter to control this behavior.\n",
      "  _warn_prf(average, modifier, f\"{metric.capitalize()} is\", len(result))\n"
     ]
    }
   ],
   "source": [
    "# Split the dataset into features and target\n",
    "X = df.drop('Drug', axis=1)\n",
    "y = df['Drug']\n",
    "\n",
    "# Split into training and testing sets (80% train, 20% test)\n",
    "from sklearn.model_selection import train_test_split\n",
    "X_train, X_test, y_train, y_test = train_test_split(X, y, test_size=0.2, random_state=42)\n",
    "\n",
    "# Train and evaluate models\n",
    "from sklearn.linear_model import LogisticRegression\n",
    "from sklearn.neighbors import KNeighborsClassifier\n",
    "from sklearn.tree import DecisionTreeClassifier\n",
    "from sklearn.metrics import classification_report\n",
    "\n",
    "# Logistic Regression\n",
    "lr_model = LogisticRegression()\n",
    "lr_model.fit(X_train, y_train)\n",
    "y_pred_lr = lr_model.predict(X_test)\n",
    "print(\"Logistic Regression:\\n\", classification_report(y_test, y_pred_lr))\n",
    "\n",
    "# k-Nearest Neighbors\n",
    "knn_model = KNeighborsClassifier()\n",
    "knn_model.fit(X_train, y_train)\n",
    "y_pred_knn = knn_model.predict(X_test)\n",
    "print(\"k-Nearest Neighbors:\\n\", classification_report(y_test, y_pred_knn))\n",
    "\n",
    "# Decision Tree\n",
    "dt_model = DecisionTreeClassifier()\n",
    "dt_model.fit(X_train, y_train)\n",
    "y_pred_dt = dt_model.predict(X_test)\n",
    "print(\"Decision Tree:\\n\", classification_report(y_test, y_pred_dt))"
   ]
  },
  {
   "cell_type": "markdown",
   "id": "5bf24d86-333b-4d37-8be6-75d811e0f432",
   "metadata": {},
   "source": [
    "***Model Evaluation and Comparison***\n",
    "\n",
    "The results of each model were evaluated using Accuracy, Precision, Recall, and F1 Score. The following comparison table summarizes the performance of the three models."
   ]
  },
  {
   "cell_type": "code",
   "execution_count": 61,
   "id": "6bb9894b-12b6-4e90-a07a-09090b156aa8",
   "metadata": {},
   "outputs": [
    {
     "data": {
      "text/html": [
       "<div>\n",
       "<style scoped>\n",
       "    .dataframe tbody tr th:only-of-type {\n",
       "        vertical-align: middle;\n",
       "    }\n",
       "\n",
       "    .dataframe tbody tr th {\n",
       "        vertical-align: top;\n",
       "    }\n",
       "\n",
       "    .dataframe thead th {\n",
       "        text-align: right;\n",
       "    }\n",
       "</style>\n",
       "<table border=\"1\" class=\"dataframe\">\n",
       "  <thead>\n",
       "    <tr style=\"text-align: right;\">\n",
       "      <th></th>\n",
       "      <th>Model</th>\n",
       "      <th>Accuracy</th>\n",
       "      <th>Precision</th>\n",
       "      <th>Recall</th>\n",
       "      <th>F1 Score</th>\n",
       "    </tr>\n",
       "  </thead>\n",
       "  <tbody>\n",
       "    <tr>\n",
       "      <th>0</th>\n",
       "      <td>Logistic Regression</td>\n",
       "      <td>0.8</td>\n",
       "      <td>0.722719</td>\n",
       "      <td>0.8</td>\n",
       "      <td>0.738575</td>\n",
       "    </tr>\n",
       "    <tr>\n",
       "      <th>1</th>\n",
       "      <td>k-Nearest Neighbors</td>\n",
       "      <td>0.7</td>\n",
       "      <td>0.763077</td>\n",
       "      <td>0.7</td>\n",
       "      <td>0.692235</td>\n",
       "    </tr>\n",
       "    <tr>\n",
       "      <th>2</th>\n",
       "      <td>Decision Tree</td>\n",
       "      <td>1.0</td>\n",
       "      <td>1.000000</td>\n",
       "      <td>1.0</td>\n",
       "      <td>1.000000</td>\n",
       "    </tr>\n",
       "  </tbody>\n",
       "</table>\n",
       "</div>"
      ],
      "text/plain": [
       "                 Model  Accuracy  Precision  Recall  F1 Score\n",
       "0  Logistic Regression       0.8   0.722719     0.8  0.738575\n",
       "1  k-Nearest Neighbors       0.7   0.763077     0.7  0.692235\n",
       "2        Decision Tree       1.0   1.000000     1.0  1.000000"
      ]
     },
     "execution_count": 61,
     "metadata": {},
     "output_type": "execute_result"
    }
   ],
   "source": [
    "from sklearn.metrics import accuracy_score, precision_score, recall_score, f1_score\n",
    "\n",
    "models = {\n",
    "    \"Logistic Regression\": y_pred_lr,\n",
    "    \"k-Nearest Neighbors\": y_pred_knn,\n",
    "    \"Decision Tree\": y_pred_dt\n",
    "}\n",
    "\n",
    "comparison_results = []\n",
    "for model_name, predictions in models.items():\n",
    "    comparison_results.append({\n",
    "        \"Model\": model_name,\n",
    "        \"Accuracy\": accuracy_score(y_test, predictions),\n",
    "        \"Precision\": precision_score(y_test, predictions, average='weighted', zero_division=0),\n",
    "        \"Recall\": recall_score(y_test, predictions, average='weighted'),\n",
    "        \"F1 Score\": f1_score(y_test, predictions, average='weighted')\n",
    "    })\n",
    "\n",
    "# Create and display comparison table\n",
    "comparison_df = pd.DataFrame(comparison_results)\n",
    "comparison_df"
   ]
  },
  {
   "cell_type": "markdown",
   "id": "33e0134a-0fd2-4336-8a6b-35ed30b3455d",
   "metadata": {},
   "source": [
    "**Model Comparison Bar Chart**\n",
    "\n",
    "The following bar chart visualizes and compares model performance across four key metrics. This helps to quickly assess the strengths and weaknesses of each algorithm in terms of Accuracy, Precision, Recall, and F1 Score.\n",
    "\n"
   ]
  },
  {
   "cell_type": "code",
   "execution_count": 64,
   "id": "cb678b16-296f-438d-bfb0-43dde2d2a5fc",
   "metadata": {},
   "outputs": [
    {
     "data": {
      "image/png": "[encoded data removed]",
      "text/plain": [
       "<Figure size 1000x600 with 1 Axes>"
      ]
     },
     "metadata": {},
     "output_type": "display_data"
    }
   ],
   "source": [
    "import matplotlib.pyplot as plt\n",
    "\n",
    "# Plotting bar chart for model comparison\n",
    "comparison_df.set_index('Model')[['Accuracy', 'Precision', 'Recall', 'F1 Score']].plot(kind='bar', figsize=(10, 6))\n",
    "\n",
    "plt.title('Model Performance Comparison')\n",
    "plt.ylabel('Score')\n",
    "plt.ylim(0, 1.1)\n",
    "plt.xticks(rotation=0)\n",
    "plt.legend(loc='lower right')\n",
    "plt.grid(axis='y', linestyle='--', alpha=0.7)\n",
    "plt.tight_layout()\n",
    "plt.show()\n"
   ]
  },
  {
   "cell_type": "markdown",
   "id": "6c1e6bec-bc77-467b-b01c-137db6c09147",
   "metadata": {},
   "source": [
    "***Model Comparison – Heatmap***\n",
    "\n",
    "This heatmap shows the performance of the models using color gradients. Darker shades indicate higher metric scores. It serves as a compact overview of how each model performed across the evaluation criteria.\n"
   ]
  },
  {
   "cell_type": "code",
   "execution_count": 65,
   "id": "c3a9a036-df91-4e78-9bb7-188267e987bf",
   "metadata": {},
   "outputs": [
    {
     "data": {
      "image/png": "[encoded data removed]",
      "text/plain": [
       "<Figure size 800x500 with 2 Axes>"
      ]
     },
     "metadata": {},
     "output_type": "display_data"
    }
   ],
   "source": [
    "import seaborn as sns\n",
    "\n",
    "# Plotting heatmap for model comparison\n",
    "plt.figure(figsize=(8, 5))\n",
    "sns.heatmap(comparison_df.set_index('Model'), annot=True, cmap='Blues', fmt=\".2f\", cbar=True)\n",
    "\n",
    "plt.title('Model Performance Heatmap')\n",
    "plt.tight_layout()\n",
    "plt.show()\n"
   ]
  },
  {
   "cell_type": "markdown",
   "id": "207ab8a0-319e-4f0d-85da-9cb0b6da8b62",
   "metadata": {},
   "source": [
    "***Conclusion***\n",
    "\n",
    "In this project, we implemented and compared three classification models: Logistic Regression, k-NN, and Decision Tree. Based on our evaluation metrics, the Decision Tree model showed the highest overall performance on the Drug200 dataset. This suggests that tree-based models may be more effective in capturing the non-linear relationships between patient features and drug classifications. Future work could involve hyperparameter tuning, testing on larger datasets, or exploring ensemble methods to improve performance further.\n"
   ]
  },
  {
   "cell_type": "code",
   "execution_count": 66,
   "id": "e4647aaa-bc5e-4517-9b87-57f979acca80",
   "metadata": {},
   "outputs": [
    {
     "data": {
      "image/png": "[encoded data removed]",
      "text/plain": [
       "<Figure size 600x400 with 2 Axes>"
      ]
     },
     "metadata": {},
     "output_type": "display_data"
    }
   ],
   "source": [
    "import seaborn as sns\n",
    "import matplotlib.pyplot as plt\n",
    "from sklearn.metrics import confusion_matrix\n",
    "\n",
    "cm = confusion_matrix(y_test, y_pred_dt)\n",
    "plt.figure(figsize=(6,4))\n",
    "sns.heatmap(cm, annot=True, fmt='d', cmap='Blues')\n",
    "plt.title('Confusion Matrix - Decision Tree')\n",
    "plt.xlabel('Predicted')\n",
    "plt.ylabel('Actual')\n",
    "plt.show()\n"
   ]
  },
  {
   "cell_type": "markdown",
   "id": "26f74921-d300-40ce-b8c4-77eccc34be70",
   "metadata": {},
   "source": [
    "***Summary***\n",
    "\n",
    "This notebook demonstrated how to preprocess data, build and compare classification models (Logistic Regression, k-NN, Decision Tree), and evaluate performance using precision, recall, F1-score, and accuracy.\n"
   ]
  }
 ],
 "metadata": {
  "kernelspec": {
   "display_name": "Python (lab2_env)",
   "language": "python",
   "name": "lab2_env"
  },
  "language_info": {
   "codemirror_mode": {
    "name": "ipython",
    "version": 3
   },
   "file_extension": ".py",
   "mimetype": "text/x-python",
   "name": "python",
   "nbconvert_exporter": "python",
   "pygments_lexer": "ipython3",
   "version": "3.10.18"
  }
 },
 "nbformat": 4,
 "nbformat_minor": 5
}
